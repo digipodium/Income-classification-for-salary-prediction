{
 "cells": [
  {
   "cell_type": "code",
   "execution_count": 356,
   "metadata": {},
   "outputs": [],
   "source": [
    "import pandas as pd\n",
    "import numpy as np\n",
    "from sklearn.linear_model import LinearRegression\n",
    "from sklearn.preprocessing import PolynomialFeatures\n",
    "from sklearn.compose import ColumnTransformer\n",
    "from sklearn.pipeline import Pipeline\n",
    "from sklearn.preprocessing import StandardScaler, OneHotEncoder, OrdinalEncoder\n",
    "from sklearn.model_selection import train_test_split\n",
    "from sklearn.model_selection import cross_val_score\n",
    "from sklearn.metrics import mean_squared_error, mean_absolute_error, r2_score\n",
    "\n",
    "import xgboost as xgb"
   ]
  },
  {
   "cell_type": "code",
   "execution_count": 357,
   "metadata": {},
   "outputs": [],
   "source": [
    "pd.set_option('display.max_columns', None)"
   ]
  },
  {
   "cell_type": "code",
   "execution_count": 358,
   "metadata": {},
   "outputs": [
    {
     "name": "stdout",
     "output_type": "stream",
     "text": [
      "<class 'pandas.core.frame.DataFrame'>\n",
      "Int64Index: 2998 entries, 604399 to 993701\n",
      "Data columns (total 33 columns):\n",
      " #   Column                 Non-Null Count  Dtype         \n",
      "---  ------                 --------------  -----         \n",
      " 0   Gender                 2998 non-null   object        \n",
      " 1   DOB                    2998 non-null   datetime64[ns]\n",
      " 2   10percentage           2998 non-null   float64       \n",
      " 3   10board                2998 non-null   object        \n",
      " 4   12graduation           2998 non-null   int64         \n",
      " 5   12percentage           2998 non-null   float64       \n",
      " 6   12board                2998 non-null   object        \n",
      " 7   CollegeID              2998 non-null   int64         \n",
      " 8   CollegeTier            2998 non-null   int64         \n",
      " 9   Degree                 2998 non-null   object        \n",
      " 10  Specialization         2998 non-null   object        \n",
      " 11  collegeGPA             2998 non-null   float64       \n",
      " 12  CollegeCityID          2998 non-null   int64         \n",
      " 13  CollegeCityTier        2998 non-null   int64         \n",
      " 14  CollegeState           2998 non-null   object        \n",
      " 15  GraduationYear         2998 non-null   int64         \n",
      " 16  English                2998 non-null   int64         \n",
      " 17  Logical                2998 non-null   int64         \n",
      " 18  Quant                  2998 non-null   int64         \n",
      " 19  Domain                 2998 non-null   float64       \n",
      " 20  ComputerProgramming    2998 non-null   int64         \n",
      " 21  ElectronicsAndSemicon  2998 non-null   int64         \n",
      " 22  ComputerScience        2998 non-null   int64         \n",
      " 23  MechanicalEngg         2998 non-null   int64         \n",
      " 24  ElectricalEngg         2998 non-null   int64         \n",
      " 25  TelecomEngg            2998 non-null   int64         \n",
      " 26  CivilEngg              2998 non-null   int64         \n",
      " 27  conscientiousness      2998 non-null   float64       \n",
      " 28  agreeableness          2998 non-null   float64       \n",
      " 29  extraversion           2998 non-null   float64       \n",
      " 30  nueroticism            2998 non-null   float64       \n",
      " 31  openess_to_experience  2998 non-null   float64       \n",
      " 32  Salary                 2998 non-null   int64         \n",
      "dtypes: datetime64[ns](1), float64(9), int64(17), object(6)\n",
      "memory usage: 796.3+ KB\n"
     ]
    }
   ],
   "source": [
    "df = pd.read_csv(r'datasets\\Engineering_graduate_salary.csv', index_col=0, parse_dates=['DOB'])\n",
    "df.info()"
   ]
  },
  {
   "cell_type": "code",
   "execution_count": 359,
   "metadata": {},
   "outputs": [],
   "source": [
    "df.dropna(inplace=True)"
   ]
  },
  {
   "cell_type": "code",
   "execution_count": 360,
   "metadata": {},
   "outputs": [],
   "source": [
    "from datetime import datetime\n",
    "\n",
    "def get_age(dob):\n",
    "    today = datetime.today()\n",
    "    return today.year - dob.year - ((today.month, today.day) < (dob.month, dob.day))\n",
    "\n",
    "df['Age'] = df['DOB'].apply(get_age)\n",
    "df.drop(columns=['DOB'], inplace=True)\n",
    "\n"
   ]
  },
  {
   "attachments": {},
   "cell_type": "markdown",
   "metadata": {},
   "source": [
    "All column that a categorical"
   ]
  },
  {
   "cell_type": "code",
   "execution_count": 361,
   "metadata": {},
   "outputs": [
    {
     "data": {
      "text/html": [
       "<div>\n",
       "<style scoped>\n",
       "    .dataframe tbody tr th:only-of-type {\n",
       "        vertical-align: middle;\n",
       "    }\n",
       "\n",
       "    .dataframe tbody tr th {\n",
       "        vertical-align: top;\n",
       "    }\n",
       "\n",
       "    .dataframe thead th {\n",
       "        text-align: right;\n",
       "    }\n",
       "</style>\n",
       "<table border=\"1\" class=\"dataframe\">\n",
       "  <thead>\n",
       "    <tr style=\"text-align: right;\">\n",
       "      <th></th>\n",
       "      <th>Gender</th>\n",
       "      <th>10board</th>\n",
       "      <th>12board</th>\n",
       "      <th>Degree</th>\n",
       "      <th>Specialization</th>\n",
       "      <th>CollegeState</th>\n",
       "    </tr>\n",
       "    <tr>\n",
       "      <th>ID</th>\n",
       "      <th></th>\n",
       "      <th></th>\n",
       "      <th></th>\n",
       "      <th></th>\n",
       "      <th></th>\n",
       "      <th></th>\n",
       "    </tr>\n",
       "  </thead>\n",
       "  <tbody>\n",
       "    <tr>\n",
       "      <th>604399</th>\n",
       "      <td>f</td>\n",
       "      <td>cbse</td>\n",
       "      <td>cbse</td>\n",
       "      <td>B.Tech/B.E.</td>\n",
       "      <td>instrumentation and control engineering</td>\n",
       "      <td>Delhi</td>\n",
       "    </tr>\n",
       "    <tr>\n",
       "      <th>988334</th>\n",
       "      <td>m</td>\n",
       "      <td>cbse</td>\n",
       "      <td>cbse</td>\n",
       "      <td>B.Tech/B.E.</td>\n",
       "      <td>computer science &amp; engineering</td>\n",
       "      <td>Uttar Pradesh</td>\n",
       "    </tr>\n",
       "    <tr>\n",
       "      <th>301647</th>\n",
       "      <td>m</td>\n",
       "      <td>maharashtra state board,pune</td>\n",
       "      <td>amravati divisional board</td>\n",
       "      <td>B.Tech/B.E.</td>\n",
       "      <td>electronics &amp; telecommunications</td>\n",
       "      <td>Maharashtra</td>\n",
       "    </tr>\n",
       "    <tr>\n",
       "      <th>582313</th>\n",
       "      <td>m</td>\n",
       "      <td>cbse</td>\n",
       "      <td>cbse</td>\n",
       "      <td>B.Tech/B.E.</td>\n",
       "      <td>computer science &amp; engineering</td>\n",
       "      <td>Delhi</td>\n",
       "    </tr>\n",
       "    <tr>\n",
       "      <th>339001</th>\n",
       "      <td>f</td>\n",
       "      <td>cbse</td>\n",
       "      <td>cbse</td>\n",
       "      <td>B.Tech/B.E.</td>\n",
       "      <td>biotechnology</td>\n",
       "      <td>Tamil Nadu</td>\n",
       "    </tr>\n",
       "    <tr>\n",
       "      <th>...</th>\n",
       "      <td>...</td>\n",
       "      <td>...</td>\n",
       "      <td>...</td>\n",
       "      <td>...</td>\n",
       "      <td>...</td>\n",
       "      <td>...</td>\n",
       "    </tr>\n",
       "    <tr>\n",
       "      <th>103174</th>\n",
       "      <td>f</td>\n",
       "      <td>0</td>\n",
       "      <td>0</td>\n",
       "      <td>B.Tech/B.E.</td>\n",
       "      <td>electronics and communication engineering</td>\n",
       "      <td>Tamil Nadu</td>\n",
       "    </tr>\n",
       "    <tr>\n",
       "      <th>352811</th>\n",
       "      <td>f</td>\n",
       "      <td>state board</td>\n",
       "      <td>state board</td>\n",
       "      <td>B.Tech/B.E.</td>\n",
       "      <td>information technology</td>\n",
       "      <td>Tamil Nadu</td>\n",
       "    </tr>\n",
       "    <tr>\n",
       "      <th>287070</th>\n",
       "      <td>m</td>\n",
       "      <td>bsemp</td>\n",
       "      <td>bsemp</td>\n",
       "      <td>B.Tech/B.E.</td>\n",
       "      <td>information technology</td>\n",
       "      <td>Madhya Pradesh</td>\n",
       "    </tr>\n",
       "    <tr>\n",
       "      <th>317336</th>\n",
       "      <td>m</td>\n",
       "      <td>karnataka education board</td>\n",
       "      <td>karnataka education board</td>\n",
       "      <td>B.Tech/B.E.</td>\n",
       "      <td>computer engineering</td>\n",
       "      <td>Karnataka</td>\n",
       "    </tr>\n",
       "    <tr>\n",
       "      <th>993701</th>\n",
       "      <td>m</td>\n",
       "      <td>state board</td>\n",
       "      <td>state board</td>\n",
       "      <td>B.Tech/B.E.</td>\n",
       "      <td>information technology</td>\n",
       "      <td>Tamil Nadu</td>\n",
       "    </tr>\n",
       "  </tbody>\n",
       "</table>\n",
       "<p>2998 rows × 6 columns</p>\n",
       "</div>"
      ],
      "text/plain": [
       "       Gender                       10board                    12board  \\\n",
       "ID                                                                       \n",
       "604399      f                          cbse                       cbse   \n",
       "988334      m                          cbse                       cbse   \n",
       "301647      m  maharashtra state board,pune  amravati divisional board   \n",
       "582313      m                          cbse                       cbse   \n",
       "339001      f                          cbse                       cbse   \n",
       "...       ...                           ...                        ...   \n",
       "103174      f                             0                          0   \n",
       "352811      f                   state board                state board   \n",
       "287070      m                         bsemp                      bsemp   \n",
       "317336      m     karnataka education board  karnataka education board   \n",
       "993701      m                   state board                state board   \n",
       "\n",
       "             Degree                             Specialization    CollegeState  \n",
       "ID                                                                              \n",
       "604399  B.Tech/B.E.    instrumentation and control engineering           Delhi  \n",
       "988334  B.Tech/B.E.             computer science & engineering   Uttar Pradesh  \n",
       "301647  B.Tech/B.E.           electronics & telecommunications     Maharashtra  \n",
       "582313  B.Tech/B.E.             computer science & engineering           Delhi  \n",
       "339001  B.Tech/B.E.                              biotechnology      Tamil Nadu  \n",
       "...             ...                                        ...             ...  \n",
       "103174  B.Tech/B.E.  electronics and communication engineering      Tamil Nadu  \n",
       "352811  B.Tech/B.E.                     information technology      Tamil Nadu  \n",
       "287070  B.Tech/B.E.                     information technology  Madhya Pradesh  \n",
       "317336  B.Tech/B.E.                       computer engineering       Karnataka  \n",
       "993701  B.Tech/B.E.                     information technology      Tamil Nadu  \n",
       "\n",
       "[2998 rows x 6 columns]"
      ]
     },
     "execution_count": 361,
     "metadata": {},
     "output_type": "execute_result"
    }
   ],
   "source": [
    "X = df.drop(columns=['Salary','CollegeCityID','CollegeID','12graduation', 'GraduationYear'])\n",
    "y = df['Salary']\n",
    "categorical_columns = [col for col in X.columns if X[col].dtype == 'object']\n",
    "X[categorical_columns]"
   ]
  },
  {
   "cell_type": "code",
   "execution_count": 362,
   "metadata": {},
   "outputs": [
    {
     "data": {
      "text/plain": [
       "['Gender',\n",
       " '10percentage',\n",
       " '10board',\n",
       " '12percentage',\n",
       " '12board',\n",
       " 'CollegeTier',\n",
       " 'Degree',\n",
       " 'Specialization',\n",
       " 'collegeGPA',\n",
       " 'CollegeCityTier',\n",
       " 'CollegeState',\n",
       " 'English',\n",
       " 'Logical',\n",
       " 'Quant',\n",
       " 'Domain',\n",
       " 'ComputerProgramming',\n",
       " 'ElectronicsAndSemicon',\n",
       " 'ComputerScience',\n",
       " 'MechanicalEngg',\n",
       " 'ElectricalEngg',\n",
       " 'TelecomEngg',\n",
       " 'CivilEngg',\n",
       " 'conscientiousness',\n",
       " 'agreeableness',\n",
       " 'extraversion',\n",
       " 'nueroticism',\n",
       " 'openess_to_experience',\n",
       " 'Age']"
      ]
     },
     "execution_count": 362,
     "metadata": {},
     "output_type": "execute_result"
    }
   ],
   "source": [
    "X.columns.tolist()"
   ]
  },
  {
   "cell_type": "code",
   "execution_count": 363,
   "metadata": {},
   "outputs": [
    {
     "data": {
      "text/html": [
       "<div>\n",
       "<style scoped>\n",
       "    .dataframe tbody tr th:only-of-type {\n",
       "        vertical-align: middle;\n",
       "    }\n",
       "\n",
       "    .dataframe tbody tr th {\n",
       "        vertical-align: top;\n",
       "    }\n",
       "\n",
       "    .dataframe thead th {\n",
       "        text-align: right;\n",
       "    }\n",
       "</style>\n",
       "<table border=\"1\" class=\"dataframe\">\n",
       "  <thead>\n",
       "    <tr style=\"text-align: right;\">\n",
       "      <th></th>\n",
       "      <th>10percentage</th>\n",
       "      <th>12percentage</th>\n",
       "      <th>CollegeTier</th>\n",
       "      <th>collegeGPA</th>\n",
       "      <th>CollegeCityTier</th>\n",
       "      <th>English</th>\n",
       "      <th>Logical</th>\n",
       "      <th>Quant</th>\n",
       "      <th>Domain</th>\n",
       "      <th>ComputerProgramming</th>\n",
       "      <th>ElectronicsAndSemicon</th>\n",
       "      <th>ComputerScience</th>\n",
       "      <th>MechanicalEngg</th>\n",
       "      <th>ElectricalEngg</th>\n",
       "      <th>TelecomEngg</th>\n",
       "      <th>CivilEngg</th>\n",
       "      <th>conscientiousness</th>\n",
       "      <th>agreeableness</th>\n",
       "      <th>extraversion</th>\n",
       "      <th>nueroticism</th>\n",
       "      <th>openess_to_experience</th>\n",
       "      <th>Age</th>\n",
       "    </tr>\n",
       "    <tr>\n",
       "      <th>ID</th>\n",
       "      <th></th>\n",
       "      <th></th>\n",
       "      <th></th>\n",
       "      <th></th>\n",
       "      <th></th>\n",
       "      <th></th>\n",
       "      <th></th>\n",
       "      <th></th>\n",
       "      <th></th>\n",
       "      <th></th>\n",
       "      <th></th>\n",
       "      <th></th>\n",
       "      <th></th>\n",
       "      <th></th>\n",
       "      <th></th>\n",
       "      <th></th>\n",
       "      <th></th>\n",
       "      <th></th>\n",
       "      <th></th>\n",
       "      <th></th>\n",
       "      <th></th>\n",
       "      <th></th>\n",
       "    </tr>\n",
       "  </thead>\n",
       "  <tbody>\n",
       "    <tr>\n",
       "      <th>604399</th>\n",
       "      <td>87.80</td>\n",
       "      <td>84.00</td>\n",
       "      <td>1</td>\n",
       "      <td>73.82</td>\n",
       "      <td>1</td>\n",
       "      <td>650</td>\n",
       "      <td>665</td>\n",
       "      <td>810</td>\n",
       "      <td>0.694479</td>\n",
       "      <td>485</td>\n",
       "      <td>366</td>\n",
       "      <td>-1</td>\n",
       "      <td>-1</td>\n",
       "      <td>-1</td>\n",
       "      <td>-1</td>\n",
       "      <td>-1</td>\n",
       "      <td>-0.1590</td>\n",
       "      <td>0.3789</td>\n",
       "      <td>1.2396</td>\n",
       "      <td>0.14590</td>\n",
       "      <td>0.2889</td>\n",
       "      <td>32</td>\n",
       "    </tr>\n",
       "    <tr>\n",
       "      <th>988334</th>\n",
       "      <td>57.00</td>\n",
       "      <td>64.50</td>\n",
       "      <td>2</td>\n",
       "      <td>65.00</td>\n",
       "      <td>0</td>\n",
       "      <td>440</td>\n",
       "      <td>435</td>\n",
       "      <td>210</td>\n",
       "      <td>0.342315</td>\n",
       "      <td>365</td>\n",
       "      <td>-1</td>\n",
       "      <td>-1</td>\n",
       "      <td>-1</td>\n",
       "      <td>-1</td>\n",
       "      <td>-1</td>\n",
       "      <td>-1</td>\n",
       "      <td>1.1336</td>\n",
       "      <td>0.0459</td>\n",
       "      <td>1.2396</td>\n",
       "      <td>0.52620</td>\n",
       "      <td>-0.2859</td>\n",
       "      <td>33</td>\n",
       "    </tr>\n",
       "    <tr>\n",
       "      <th>301647</th>\n",
       "      <td>77.33</td>\n",
       "      <td>85.17</td>\n",
       "      <td>2</td>\n",
       "      <td>61.94</td>\n",
       "      <td>0</td>\n",
       "      <td>485</td>\n",
       "      <td>475</td>\n",
       "      <td>505</td>\n",
       "      <td>0.824666</td>\n",
       "      <td>-1</td>\n",
       "      <td>400</td>\n",
       "      <td>-1</td>\n",
       "      <td>-1</td>\n",
       "      <td>-1</td>\n",
       "      <td>260</td>\n",
       "      <td>-1</td>\n",
       "      <td>0.5100</td>\n",
       "      <td>-0.1232</td>\n",
       "      <td>1.5428</td>\n",
       "      <td>-0.29020</td>\n",
       "      <td>-0.2875</td>\n",
       "      <td>33</td>\n",
       "    </tr>\n",
       "    <tr>\n",
       "      <th>582313</th>\n",
       "      <td>84.30</td>\n",
       "      <td>86.00</td>\n",
       "      <td>1</td>\n",
       "      <td>80.40</td>\n",
       "      <td>1</td>\n",
       "      <td>675</td>\n",
       "      <td>620</td>\n",
       "      <td>635</td>\n",
       "      <td>0.990009</td>\n",
       "      <td>655</td>\n",
       "      <td>-1</td>\n",
       "      <td>-1</td>\n",
       "      <td>-1</td>\n",
       "      <td>-1</td>\n",
       "      <td>-1</td>\n",
       "      <td>-1</td>\n",
       "      <td>-0.4463</td>\n",
       "      <td>0.2124</td>\n",
       "      <td>0.3174</td>\n",
       "      <td>0.27270</td>\n",
       "      <td>0.4805</td>\n",
       "      <td>32</td>\n",
       "    </tr>\n",
       "    <tr>\n",
       "      <th>339001</th>\n",
       "      <td>82.00</td>\n",
       "      <td>75.00</td>\n",
       "      <td>2</td>\n",
       "      <td>64.30</td>\n",
       "      <td>1</td>\n",
       "      <td>575</td>\n",
       "      <td>495</td>\n",
       "      <td>365</td>\n",
       "      <td>0.278457</td>\n",
       "      <td>315</td>\n",
       "      <td>-1</td>\n",
       "      <td>-1</td>\n",
       "      <td>-1</td>\n",
       "      <td>-1</td>\n",
       "      <td>-1</td>\n",
       "      <td>-1</td>\n",
       "      <td>-1.4992</td>\n",
       "      <td>-0.7473</td>\n",
       "      <td>-1.0697</td>\n",
       "      <td>0.06223</td>\n",
       "      <td>0.1864</td>\n",
       "      <td>32</td>\n",
       "    </tr>\n",
       "    <tr>\n",
       "      <th>...</th>\n",
       "      <td>...</td>\n",
       "      <td>...</td>\n",
       "      <td>...</td>\n",
       "      <td>...</td>\n",
       "      <td>...</td>\n",
       "      <td>...</td>\n",
       "      <td>...</td>\n",
       "      <td>...</td>\n",
       "      <td>...</td>\n",
       "      <td>...</td>\n",
       "      <td>...</td>\n",
       "      <td>...</td>\n",
       "      <td>...</td>\n",
       "      <td>...</td>\n",
       "      <td>...</td>\n",
       "      <td>...</td>\n",
       "      <td>...</td>\n",
       "      <td>...</td>\n",
       "      <td>...</td>\n",
       "      <td>...</td>\n",
       "      <td>...</td>\n",
       "      <td>...</td>\n",
       "    </tr>\n",
       "    <tr>\n",
       "      <th>103174</th>\n",
       "      <td>75.00</td>\n",
       "      <td>73.00</td>\n",
       "      <td>2</td>\n",
       "      <td>70.00</td>\n",
       "      <td>1</td>\n",
       "      <td>505</td>\n",
       "      <td>485</td>\n",
       "      <td>445</td>\n",
       "      <td>0.538387</td>\n",
       "      <td>245</td>\n",
       "      <td>333</td>\n",
       "      <td>-1</td>\n",
       "      <td>-1</td>\n",
       "      <td>-1</td>\n",
       "      <td>-1</td>\n",
       "      <td>-1</td>\n",
       "      <td>-1.1901</td>\n",
       "      <td>0.9688</td>\n",
       "      <td>-1.0697</td>\n",
       "      <td>1.35490</td>\n",
       "      <td>0.0284</td>\n",
       "      <td>34</td>\n",
       "    </tr>\n",
       "    <tr>\n",
       "      <th>352811</th>\n",
       "      <td>84.00</td>\n",
       "      <td>77.00</td>\n",
       "      <td>2</td>\n",
       "      <td>75.20</td>\n",
       "      <td>0</td>\n",
       "      <td>345</td>\n",
       "      <td>585</td>\n",
       "      <td>395</td>\n",
       "      <td>0.190153</td>\n",
       "      <td>315</td>\n",
       "      <td>-1</td>\n",
       "      <td>-1</td>\n",
       "      <td>-1</td>\n",
       "      <td>-1</td>\n",
       "      <td>-1</td>\n",
       "      <td>-1</td>\n",
       "      <td>-0.1082</td>\n",
       "      <td>0.0328</td>\n",
       "      <td>-0.4891</td>\n",
       "      <td>-0.29020</td>\n",
       "      <td>0.5024</td>\n",
       "      <td>31</td>\n",
       "    </tr>\n",
       "    <tr>\n",
       "      <th>287070</th>\n",
       "      <td>91.40</td>\n",
       "      <td>65.56</td>\n",
       "      <td>2</td>\n",
       "      <td>73.19</td>\n",
       "      <td>0</td>\n",
       "      <td>385</td>\n",
       "      <td>425</td>\n",
       "      <td>485</td>\n",
       "      <td>0.600057</td>\n",
       "      <td>435</td>\n",
       "      <td>-1</td>\n",
       "      <td>-1</td>\n",
       "      <td>-1</td>\n",
       "      <td>-1</td>\n",
       "      <td>-1</td>\n",
       "      <td>-1</td>\n",
       "      <td>-0.8810</td>\n",
       "      <td>0.1888</td>\n",
       "      <td>-0.3440</td>\n",
       "      <td>0.06230</td>\n",
       "      <td>0.6603</td>\n",
       "      <td>34</td>\n",
       "    </tr>\n",
       "    <tr>\n",
       "      <th>317336</th>\n",
       "      <td>88.64</td>\n",
       "      <td>65.16</td>\n",
       "      <td>2</td>\n",
       "      <td>74.81</td>\n",
       "      <td>1</td>\n",
       "      <td>465</td>\n",
       "      <td>645</td>\n",
       "      <td>505</td>\n",
       "      <td>0.901490</td>\n",
       "      <td>545</td>\n",
       "      <td>-1</td>\n",
       "      <td>-1</td>\n",
       "      <td>-1</td>\n",
       "      <td>-1</td>\n",
       "      <td>-1</td>\n",
       "      <td>-1</td>\n",
       "      <td>1.4374</td>\n",
       "      <td>1.2808</td>\n",
       "      <td>-0.4891</td>\n",
       "      <td>-1.46537</td>\n",
       "      <td>0.5419</td>\n",
       "      <td>34</td>\n",
       "    </tr>\n",
       "    <tr>\n",
       "      <th>993701</th>\n",
       "      <td>77.00</td>\n",
       "      <td>75.50</td>\n",
       "      <td>2</td>\n",
       "      <td>69.30</td>\n",
       "      <td>0</td>\n",
       "      <td>370</td>\n",
       "      <td>390</td>\n",
       "      <td>285</td>\n",
       "      <td>0.486747</td>\n",
       "      <td>315</td>\n",
       "      <td>-1</td>\n",
       "      <td>376</td>\n",
       "      <td>-1</td>\n",
       "      <td>-1</td>\n",
       "      <td>-1</td>\n",
       "      <td>-1</td>\n",
       "      <td>-0.5899</td>\n",
       "      <td>-1.9521</td>\n",
       "      <td>0.3174</td>\n",
       "      <td>1.16010</td>\n",
       "      <td>-2.3937</td>\n",
       "      <td>30</td>\n",
       "    </tr>\n",
       "  </tbody>\n",
       "</table>\n",
       "<p>2998 rows × 22 columns</p>\n",
       "</div>"
      ],
      "text/plain": [
       "        10percentage  12percentage  CollegeTier  collegeGPA  CollegeCityTier  \\\n",
       "ID                                                                             \n",
       "604399         87.80         84.00            1       73.82                1   \n",
       "988334         57.00         64.50            2       65.00                0   \n",
       "301647         77.33         85.17            2       61.94                0   \n",
       "582313         84.30         86.00            1       80.40                1   \n",
       "339001         82.00         75.00            2       64.30                1   \n",
       "...              ...           ...          ...         ...              ...   \n",
       "103174         75.00         73.00            2       70.00                1   \n",
       "352811         84.00         77.00            2       75.20                0   \n",
       "287070         91.40         65.56            2       73.19                0   \n",
       "317336         88.64         65.16            2       74.81                1   \n",
       "993701         77.00         75.50            2       69.30                0   \n",
       "\n",
       "        English  Logical  Quant    Domain  ComputerProgramming  \\\n",
       "ID                                                               \n",
       "604399      650      665    810  0.694479                  485   \n",
       "988334      440      435    210  0.342315                  365   \n",
       "301647      485      475    505  0.824666                   -1   \n",
       "582313      675      620    635  0.990009                  655   \n",
       "339001      575      495    365  0.278457                  315   \n",
       "...         ...      ...    ...       ...                  ...   \n",
       "103174      505      485    445  0.538387                  245   \n",
       "352811      345      585    395  0.190153                  315   \n",
       "287070      385      425    485  0.600057                  435   \n",
       "317336      465      645    505  0.901490                  545   \n",
       "993701      370      390    285  0.486747                  315   \n",
       "\n",
       "        ElectronicsAndSemicon  ComputerScience  MechanicalEngg  \\\n",
       "ID                                                               \n",
       "604399                    366               -1              -1   \n",
       "988334                     -1               -1              -1   \n",
       "301647                    400               -1              -1   \n",
       "582313                     -1               -1              -1   \n",
       "339001                     -1               -1              -1   \n",
       "...                       ...              ...             ...   \n",
       "103174                    333               -1              -1   \n",
       "352811                     -1               -1              -1   \n",
       "287070                     -1               -1              -1   \n",
       "317336                     -1               -1              -1   \n",
       "993701                     -1              376              -1   \n",
       "\n",
       "        ElectricalEngg  TelecomEngg  CivilEngg  conscientiousness  \\\n",
       "ID                                                                  \n",
       "604399              -1           -1         -1            -0.1590   \n",
       "988334              -1           -1         -1             1.1336   \n",
       "301647              -1          260         -1             0.5100   \n",
       "582313              -1           -1         -1            -0.4463   \n",
       "339001              -1           -1         -1            -1.4992   \n",
       "...                ...          ...        ...                ...   \n",
       "103174              -1           -1         -1            -1.1901   \n",
       "352811              -1           -1         -1            -0.1082   \n",
       "287070              -1           -1         -1            -0.8810   \n",
       "317336              -1           -1         -1             1.4374   \n",
       "993701              -1           -1         -1            -0.5899   \n",
       "\n",
       "        agreeableness  extraversion  nueroticism  openess_to_experience  Age  \n",
       "ID                                                                            \n",
       "604399         0.3789        1.2396      0.14590                 0.2889   32  \n",
       "988334         0.0459        1.2396      0.52620                -0.2859   33  \n",
       "301647        -0.1232        1.5428     -0.29020                -0.2875   33  \n",
       "582313         0.2124        0.3174      0.27270                 0.4805   32  \n",
       "339001        -0.7473       -1.0697      0.06223                 0.1864   32  \n",
       "...               ...           ...          ...                    ...  ...  \n",
       "103174         0.9688       -1.0697      1.35490                 0.0284   34  \n",
       "352811         0.0328       -0.4891     -0.29020                 0.5024   31  \n",
       "287070         0.1888       -0.3440      0.06230                 0.6603   34  \n",
       "317336         1.2808       -0.4891     -1.46537                 0.5419   34  \n",
       "993701        -1.9521        0.3174      1.16010                -2.3937   30  \n",
       "\n",
       "[2998 rows x 22 columns]"
      ]
     },
     "execution_count": 363,
     "metadata": {},
     "output_type": "execute_result"
    }
   ],
   "source": [
    "numerical_columns = [col for col in X.columns if X[col].dtype in ['int64', 'float64']]\n",
    "X[numerical_columns]"
   ]
  },
  {
   "cell_type": "code",
   "execution_count": 364,
   "metadata": {},
   "outputs": [
    {
     "name": "stdout",
     "output_type": "stream",
     "text": [
      "CollegeTier [1 2]\n",
      "CollegeCityTier [1 0]\n",
      "cardinality of categorical columns\n",
      "Gender 2\n",
      "10board 221\n",
      "12board 277\n",
      "Degree 4\n",
      "Specialization 42\n",
      "CollegeState 26\n",
      "CollegeTier 2\n",
      "CollegeCityTier 2\n",
      "cardinality of numerical columns\n",
      "10percentage 736\n",
      "12percentage 717\n",
      "collegeGPA 1064\n",
      "English 109\n",
      "Logical 104\n",
      "Quant 133\n",
      "Domain 221\n",
      "ComputerProgramming 76\n",
      "ElectronicsAndSemicon 29\n",
      "ComputerScience 19\n",
      "MechanicalEngg 39\n",
      "ElectricalEngg 29\n",
      "TelecomEngg 24\n",
      "CivilEngg 15\n",
      "conscientiousness 129\n",
      "agreeableness 136\n",
      "extraversion 142\n",
      "nueroticism 204\n",
      "openess_to_experience 131\n",
      "Age 16\n"
     ]
    }
   ],
   "source": [
    "\n",
    "# numerical column that are actually categorical\n",
    "for col in numerical_columns:\n",
    "    if len(df[col].unique()) <10:\n",
    "        print(col, df[col].unique())\n",
    "        categorical_columns.append(col)\n",
    "        numerical_columns.remove(col)\n",
    "print(\"cardinality of categorical columns\")\n",
    "for col in X[categorical_columns]:\n",
    "    print(col, X[col].nunique())\n",
    "print(\"cardinality of numerical columns\")\n",
    "for col in X[numerical_columns]:\n",
    "    print(col, X[col].nunique())"
   ]
  },
  {
   "cell_type": "code",
   "execution_count": 365,
   "metadata": {},
   "outputs": [
    {
     "data": {
      "text/plain": [
       "electronics and communication engineering      670\n",
       "computer science & engineering                 557\n",
       "information technology                         506\n",
       "computer engineering                           415\n",
       "computer application                           201\n",
       "mechanical engineering                         155\n",
       "electronics and electrical engineering         148\n",
       "electronics & telecommunications                89\n",
       "electrical engineering                          63\n",
       "electronics & instrumentation eng               24\n",
       "instrumentation and control engineering         18\n",
       "information science engineering                 18\n",
       "electronics and instrumentation engineering     18\n",
       "civil engineering                               15\n",
       "electronics engineering                         13\n",
       "biotechnology                                   12\n",
       "other                                           10\n",
       "industrial & production engineering              8\n",
       "chemical engineering                             7\n",
       "applied electronics and instrumentation          5\n",
       "mechanical and automation                        5\n",
       "telecommunication engineering                    4\n",
       "automobile/automotive engineering                4\n",
       "computer science and technology                  4\n",
       "aeronautical engineering                         3\n",
       "instrumentation engineering                      3\n",
       "electronics and computer engineering             3\n",
       "mechatronics                                     3\n",
       "metallurgical engineering                        2\n",
       "industrial engineering                           2\n",
       "biomedical engineering                           2\n",
       "information & communication technology           1\n",
       "electronics                                      1\n",
       "embedded systems technology                      1\n",
       "industrial & management engineering              1\n",
       "electrical and power engineering                 1\n",
       "computer and communication engineering           1\n",
       "mechanical & production engineering              1\n",
       "control and instrumentation engineering          1\n",
       "ceramic engineering                              1\n",
       "computer networking                              1\n",
       "information science                              1\n",
       "Name: Specialization, dtype: int64"
      ]
     },
     "execution_count": 365,
     "metadata": {},
     "output_type": "execute_result"
    }
   ],
   "source": [
    "df['Specialization'].value_counts()"
   ]
  },
  {
   "cell_type": "code",
   "execution_count": 366,
   "metadata": {},
   "outputs": [
    {
     "data": {
      "text/plain": [
       "<Axes: >"
      ]
     },
     "execution_count": 366,
     "metadata": {},
     "output_type": "execute_result"
    },
    {
     "data": {
      "image/png": "[encoded data removed]",
      "text/plain": [
       "<Figure size 640x480 with 1 Axes>"
      ]
     },
     "metadata": {},
     "output_type": "display_data"
    }
   ],
   "source": [
    "# fix the skewness\n",
    "df['Salary'].hist(bins=20)"
   ]
  },
  {
   "cell_type": "code",
   "execution_count": 367,
   "metadata": {},
   "outputs": [
    {
     "data": {
      "text/plain": [
       "<Axes: >"
      ]
     },
     "execution_count": 367,
     "metadata": {},
     "output_type": "execute_result"
    },
    {
     "data": {
      "image/png": "[encoded data removed]",
      "text/plain": [
       "<Figure size 640x480 with 1 Axes>"
      ]
     },
     "metadata": {},
     "output_type": "display_data"
    }
   ],
   "source": [
    "y = np.log1p(df['Salary'])\n",
    "y.hist(bins=20)"
   ]
  },
  {
   "cell_type": "code",
   "execution_count": 368,
   "metadata": {},
   "outputs": [
    {
     "data": {
      "text/plain": [
       "10percentage             0.181414\n",
       "12percentage             0.172755\n",
       "collegeGPA               0.131912\n",
       "English                  0.179668\n",
       "Logical                  0.193647\n",
       "Quant                    0.239345\n",
       "Domain                   0.132845\n",
       "ComputerProgramming      0.134235\n",
       "ElectronicsAndSemicon   -0.008085\n",
       "ComputerScience         -0.099373\n",
       "MechanicalEngg           0.032333\n",
       "ElectricalEngg          -0.041403\n",
       "TelecomEngg             -0.029485\n",
       "CivilEngg                0.030387\n",
       "conscientiousness       -0.047134\n",
       "agreeableness            0.074756\n",
       "extraversion            -0.004930\n",
       "nueroticism             -0.069983\n",
       "openess_to_experience    0.000940\n",
       "Age                      0.147522\n",
       "dtype: float64"
      ]
     },
     "execution_count": 368,
     "metadata": {},
     "output_type": "execute_result"
    }
   ],
   "source": [
    "import seaborn as sns\n",
    "import matplotlib.pyplot as plt\n",
    "# correlation with target\n",
    "df[numerical_columns].corrwith(df['Salary'])"
   ]
  },
  {
   "cell_type": "code",
   "execution_count": 369,
   "metadata": {},
   "outputs": [],
   "source": [
    "# # boxplot\n",
    "# for col in categorical_columns:\n",
    "#     sns.catplot(x=col, y='Salary', data=df.sort_values('Salary', ascending=False), kind='boxen', height=6, aspect=3)\n",
    "#     plt.xticks(rotation=45)\n",
    "#     plt.show()"
   ]
  },
  {
   "cell_type": "code",
   "execution_count": 370,
   "metadata": {},
   "outputs": [
    {
     "data": {
      "text/plain": [
       "['10percentage',\n",
       " '12percentage',\n",
       " 'collegeGPA',\n",
       " 'English',\n",
       " 'Logical',\n",
       " 'Quant',\n",
       " 'Age']"
      ]
     },
     "execution_count": 370,
     "metadata": {},
     "output_type": "execute_result"
    }
   ],
   "source": [
    "cols_to_drop =[\n",
    "'Domain',\n",
    "'ComputerProgramming',\n",
    "'ElectronicsAndSemicon',\n",
    "'ComputerScience',\n",
    "'MechanicalEngg',\n",
    "'ElectricalEngg',\n",
    "'TelecomEngg',\n",
    "'CivilEngg',\n",
    "'conscientiousness',\n",
    "'agreeableness',\n",
    "'extraversion',\n",
    "'nueroticism',\n",
    "'openess_to_experience',\n",
    "]\n",
    "\n",
    "numerical_columns = [col for col in numerical_columns if col not in cols_to_drop]\n",
    "numerical_columns"
   ]
  },
  {
   "cell_type": "code",
   "execution_count": 371,
   "metadata": {},
   "outputs": [
    {
     "data": {
      "text/plain": [
       "10percentage    0.181414\n",
       "12percentage    0.172755\n",
       "collegeGPA      0.131912\n",
       "English         0.179668\n",
       "Logical         0.193647\n",
       "Quant           0.239345\n",
       "Age             0.147522\n",
       "dtype: float64"
      ]
     },
     "execution_count": 371,
     "metadata": {},
     "output_type": "execute_result"
    }
   ],
   "source": [
    "X[numerical_columns].corrwith(df['Salary'])"
   ]
  },
  {
   "cell_type": "code",
   "execution_count": 372,
   "metadata": {},
   "outputs": [],
   "source": [
    "X = X[categorical_columns+numerical_columns]\n"
   ]
  },
  {
   "cell_type": "code",
   "execution_count": 373,
   "metadata": {},
   "outputs": [
    {
     "data": {
      "text/plain": [
       "<Axes: >"
      ]
     },
     "execution_count": 373,
     "metadata": {},
     "output_type": "execute_result"
    },
    {
     "data": {
      "image/png": "[encoded data removed]",
      "text/plain": [
       "<Figure size 640x480 with 1 Axes>"
      ]
     },
     "metadata": {},
     "output_type": "display_data"
    }
   ],
   "source": [
    "X[numerical_columns].corrwith(y).abs().sort_values(ascending=False).plot(kind='bar')"
   ]
  },
  {
   "cell_type": "code",
   "execution_count": 374,
   "metadata": {},
   "outputs": [],
   "source": [
    "# get the name and score of best features\n",
    "from sklearn.feature_selection import SelectKBest, f_regression, RFE"
   ]
  },
  {
   "cell_type": "code",
   "execution_count": 375,
   "metadata": {},
   "outputs": [],
   "source": [
    "cat_encoder = OneHotEncoder(handle_unknown='ignore', sparse_output=False, )\n",
    "num_encoder = StandardScaler()\n",
    "preprocessor = ColumnTransformer(transformers=[('cat', cat_encoder, categorical_columns),\n",
    "                                                  ('num', num_encoder, numerical_columns)])             "
   ]
  },
  {
   "cell_type": "code",
   "execution_count": 376,
   "metadata": {},
   "outputs": [
    {
     "name": "stdout",
     "output_type": "stream",
     "text": [
      "0.862730743725209\n",
      "mse 0.040829143367918375\n",
      "mae 0.14479990067440857\n",
      "r2 0.862730743725209\n"
     ]
    }
   ],
   "source": [
    "# pipeline with selectkbest\n",
    "pipe = Pipeline([('preprocessor', preprocessor),\n",
    "        ('selectkbest', SelectKBest(score_func=f_regression, k=10)),\n",
    "        ('model',xgb.XGBRegressor())])\n",
    "\n",
    "pipe.fit(X, y)\n",
    "print(pipe.score(X, y))\n",
    "y_pred = pipe.predict(X)\n",
    "print('mse', mean_squared_error(y, y_pred))\n",
    "print('mae', mean_absolute_error(y, y_pred))\n",
    "print('r2', r2_score(y, y_pred))\n"
   ]
  },
  {
   "cell_type": "code",
   "execution_count": 377,
   "metadata": {},
   "outputs": [
    {
     "data": {
      "text/plain": [
       "['model.pkl']"
      ]
     },
     "execution_count": 377,
     "metadata": {},
     "output_type": "execute_result"
    }
   ],
   "source": [
    "# save the model\n",
    "import joblib\n",
    "joblib.dump(pipe, 'model.pkl')\n"
   ]
  },
  {
   "cell_type": "code",
   "execution_count": 378,
   "metadata": {},
   "outputs": [],
   "source": [
    "#  a function to take user input based on the columns in X and predict the salary\n",
    "def predict_salary(gender, percent10th, board10th, percent12th, board12, \n",
    "                collegeTier, degree, specialization, collegeGPA, \n",
    "                CollegeCityTier, CollegeState, \n",
    "                English, Logical, Quant, Age):\n",
    "    # create a dataframe with the user input\n",
    "    udf = pd.DataFrame({\n",
    "        'Gender': [gender],\n",
    "        '10percentage': [percent10th],\n",
    "        '10board': [board10th],\n",
    "        '12percentage': [percent12th],\n",
    "        '12board': [board12],\n",
    "        'CollegeTier': [collegeTier],\n",
    "        'Degree': [degree],\n",
    "        'Specialization'    : [specialization],\n",
    "        'collegeGPA': [collegeGPA],\n",
    "        'CollegeCityTier': [CollegeCityTier],\n",
    "        'CollegeState': [CollegeState],\n",
    "        'English': [English],\n",
    "        'Logical': [Logical],\n",
    "        'Quant': [Quant],\n",
    "        'Age' : [Age]\n",
    "    })\n",
    "    \n",
    "    model = joblib.load('model.pkl')\n",
    "    ans = model.predict(udf)\n",
    "    return ans[0]\n"
   ]
  },
  {
   "cell_type": "code",
   "execution_count": 379,
   "metadata": {},
   "outputs": [
    {
     "name": "stdout",
     "output_type": "stream",
     "text": [
      "calculated salary 483686.94\n"
     ]
    }
   ],
   "source": [
    "# predict the salary\n",
    "model = joblib.load('model.pkl')\n",
    "salary = model.predict(X.iloc[0:1])[0]\n",
    "print(\"calculated salary\", np.expm1(salary))"
   ]
  },
  {
   "cell_type": "code",
   "execution_count": 380,
   "metadata": {},
   "outputs": [
    {
     "data": {
      "text/plain": [
       "0.14871088004220503"
      ]
     },
     "execution_count": 380,
     "metadata": {},
     "output_type": "execute_result"
    }
   ],
   "source": [
    "np.expm1(0.1386403397376724)"
   ]
  },
  {
   "cell_type": "code",
   "execution_count": 381,
   "metadata": {},
   "outputs": [
    {
     "data": {
      "text/html": [
       "<div>\n",
       "<style scoped>\n",
       "    .dataframe tbody tr th:only-of-type {\n",
       "        vertical-align: middle;\n",
       "    }\n",
       "\n",
       "    .dataframe tbody tr th {\n",
       "        vertical-align: top;\n",
       "    }\n",
       "\n",
       "    .dataframe thead th {\n",
       "        text-align: right;\n",
       "    }\n",
       "</style>\n",
       "<table border=\"1\" class=\"dataframe\">\n",
       "  <thead>\n",
       "    <tr style=\"text-align: right;\">\n",
       "      <th></th>\n",
       "      <th>Gender</th>\n",
       "      <th>10board</th>\n",
       "      <th>12board</th>\n",
       "      <th>Degree</th>\n",
       "      <th>Specialization</th>\n",
       "      <th>CollegeState</th>\n",
       "      <th>CollegeTier</th>\n",
       "      <th>CollegeCityTier</th>\n",
       "      <th>10percentage</th>\n",
       "      <th>12percentage</th>\n",
       "      <th>collegeGPA</th>\n",
       "      <th>English</th>\n",
       "      <th>Logical</th>\n",
       "      <th>Quant</th>\n",
       "      <th>Age</th>\n",
       "    </tr>\n",
       "    <tr>\n",
       "      <th>ID</th>\n",
       "      <th></th>\n",
       "      <th></th>\n",
       "      <th></th>\n",
       "      <th></th>\n",
       "      <th></th>\n",
       "      <th></th>\n",
       "      <th></th>\n",
       "      <th></th>\n",
       "      <th></th>\n",
       "      <th></th>\n",
       "      <th></th>\n",
       "      <th></th>\n",
       "      <th></th>\n",
       "      <th></th>\n",
       "      <th></th>\n",
       "    </tr>\n",
       "  </thead>\n",
       "  <tbody>\n",
       "    <tr>\n",
       "      <th>604399</th>\n",
       "      <td>f</td>\n",
       "      <td>cbse</td>\n",
       "      <td>cbse</td>\n",
       "      <td>B.Tech/B.E.</td>\n",
       "      <td>instrumentation and control engineering</td>\n",
       "      <td>Delhi</td>\n",
       "      <td>1</td>\n",
       "      <td>1</td>\n",
       "      <td>87.8</td>\n",
       "      <td>84.0</td>\n",
       "      <td>73.82</td>\n",
       "      <td>650</td>\n",
       "      <td>665</td>\n",
       "      <td>810</td>\n",
       "      <td>32</td>\n",
       "    </tr>\n",
       "  </tbody>\n",
       "</table>\n",
       "</div>"
      ],
      "text/plain": [
       "       Gender 10board 12board       Degree  \\\n",
       "ID                                           \n",
       "604399      f    cbse    cbse  B.Tech/B.E.   \n",
       "\n",
       "                                 Specialization CollegeState  CollegeTier  \\\n",
       "ID                                                                          \n",
       "604399  instrumentation and control engineering        Delhi            1   \n",
       "\n",
       "        CollegeCityTier  10percentage  12percentage  collegeGPA  English  \\\n",
       "ID                                                                         \n",
       "604399                1          87.8          84.0       73.82      650   \n",
       "\n",
       "        Logical  Quant  Age  \n",
       "ID                           \n",
       "604399      665    810   32  "
      ]
     },
     "execution_count": 381,
     "metadata": {},
     "output_type": "execute_result"
    }
   ],
   "source": [
    "X.iloc[0:1]"
   ]
  },
  {
   "cell_type": "code",
   "execution_count": 382,
   "metadata": {},
   "outputs": [],
   "source": [
    "df['predicted_salary'] = np.expm1(model.predict(X))"
   ]
  },
  {
   "cell_type": "code",
   "execution_count": 383,
   "metadata": {},
   "outputs": [
    {
     "data": {
      "text/plain": [
       "<Axes: xlabel='Salary', ylabel='Density'>"
      ]
     },
     "execution_count": 383,
     "metadata": {},
     "output_type": "execute_result"
    },
    {
     "data": {
      "image/png": "[encoded data removed]",
      "text/plain": [
       "<Figure size 640x480 with 1 Axes>"
      ]
     },
     "metadata": {},
     "output_type": "display_data"
    }
   ],
   "source": [
    "# kde plot\n",
    "sns.kdeplot(df['Salary'],color='r')\n",
    "sns.kdeplot(df['predicted_salary'], color='b')\n"
   ]
  },
  {
   "cell_type": "code",
   "execution_count": 384,
   "metadata": {},
   "outputs": [
    {
     "name": "stdout",
     "output_type": "stream",
     "text": [
      "predicted salary 342817.03\n"
     ]
    }
   ],
   "source": [
    "# test the function\n",
    "ans = predict_salary(\n",
    "    gender='m',\n",
    "    board10th='icse',\n",
    "    board12='icse',\n",
    "    degree='B.Tech/B.E.',\n",
    "    specialization='computer engineering',\n",
    "    CollegeState='Andhra Pradesh',\n",
    "    collegeTier=2,\n",
    "    CollegeCityTier=1,\n",
    "    percent10th=84.3,\n",
    "    percent12th=95.8,\n",
    "    collegeGPA=7.8,\n",
    "    English=515,\n",
    "    Logical=585,\n",
    "    Quant=525,\n",
    "    Age=25\n",
    ")\n",
    "print(\"predicted salary\", np.expm1(ans))"
   ]
  },
  {
   "cell_type": "code",
   "execution_count": 385,
   "metadata": {},
   "outputs": [
    {
     "name": "stdout",
     "output_type": "stream",
     "text": [
      "gender_choice =  ['f', 'm']\n",
      "---------------------------------\n",
      "10board_choice =  ['cbse', 'maharashtra state board,pune', 'icse', 'state board', 'delhi board', '0', 'hse', 'board of school education harayana', 'rbse', 'u p board', 'bse, odisha', 'rajasthan board of secondary education', 'up board', 'council for indian school certificate examination', 'kea', 'uttar pradesh', 'board of secondary education,andhara pradesh', 'wbbse', 'matriculation board', 'board of secondary education - andhra pradesh', 'mp', 'up', 'karnataka', 'ssc', 'kseeb', 'bse', 'gseb', 'uttar pradesh board', 'matriculation', 'karnataka secondary education board', 'maharastra board', 'tn state board', 'board of secondary education', 'sslc', 'board secondary  education', 'karnataka secondary school of examination', 'metric', 'maharashtra state board', 'maharashtra sate board', 'matric', 'hbse', 'state', 'state boardmp board ', 'karnataka board of higher education', 'hsce', 'nagpur divisional board', 'bihar board', 'jkbose', 'secondary state certificate', 'secondary school of education', 'kseb', 'mpboard', 'cbse board', 'up bourd', 'j&k state board of school education', 'board of secondary education,andhra pradesh', 'kerala state board', 'hsc', 'rajasthan board', 'pune', 'karnataka state board', 'upboard', 'gujarat state board', 'state board - west bengal board of secondary education : wbbse', 'karnataka secondary education examination board', 'bseb', 'cgbse', 'uttarakhand board', 'sri kannika parameswari highier secondary school, udumalpet', 'maharashtra satate board', 'kerala state technical education', 'karnataka education board (keeb)', 'ssc regular', 'board of secondary education, andhra pradesh', 'state board (jac, ranchi)', 'gyan bharati school', 'anglo indian', 'west bengal board of secondary education', 'central board of secondary education', 'up baord', 'pseb', 'maharashtra state board of secondary and higher secondary education,pune', 'karnataka state secondary education board', 'karnataka secondary education', 'madhya pradesh board', 'board of ssc education andhra pradesh', 'stateboard', 'board of secondary education, rajasthan', 'ksseb', 'cbsc', 'bharathi matriculation school', 'uttrakhand board', 'nagpur', 'board of secondary education (bse) orissa', 'bseb, patna', 'mpbse', 'kalaimagal matriculation higher secondary school', 'tamilnadu matriculation board', 'karnataka board', 'delhi public school', 'secondary board of rajasthan', 'jseb', 'up(allahabad)', 'bse,orissa', 'rbse (state board)', 'ssc maharashtra board', 'up board,allahabad', 'mp board', 'board of secendary education orissa', 'bihar school examination board', 'apssc', 'up board , allahabad', 'mirza ahmed ali baig', 'maharashtra board', 'aurangabad board', 'jharkhand secondary board', 'kiran english medium high school', 'state board of secondary education, andhra pradesh', 'maharashtra state board for ssc', 'sarada high scchool', 'pune board', 'uttaranchal state board', 'uttranchal board', 'ap state board', 'stjosephs girls higher sec school,dindigul', 'nagpur board', 'aisse', 'mp board bhopal', 'maharashtra state board of secondary and higher secondary education', 'west bengal  board of secondary education', 'hbsc', 'state bord', 'central board of secondary education, new delhi', 'kseeb(karnataka secondary education examination board)', 'wbbsce', 'school secondary education, andhra pradesh', 'nashik board', 'secondary school certificate', 'state board ', 'ssc board of andrapradesh', 'jbse,jharkhand', 'ksbe', 'jharkhand acedemic council', 'jharkhand secondary examination board (ranchi)', 'board ofsecondary education,ap', 'matric board', 'national public school', 'mhsbse', 'hse,orissa', 'karnataka sslc board bangalore', 'icse board', 'jawahar navodaya vidyalaya', 'dav public school,hehal', 'maharashtra board, pune', 'secondary school education', 'board of secondary education,ap', 'stmary higher secondary', 'latur board', 'bse,odisha', 'gujarat board', 'bseb,patna', 'up board allahabad', 'maharashtra state(latur board)', 'andhra pradesh state board', 'maharashtra', 'education board of kerala', 'apsche', 'ksseb(karnataka state board)', 'punjab school education board, mohali', 'bihar school examination board patna', 'ap state board for secondary education', 'cbse ', 'sslc,karnataka', 'karnataka secondory education board', 'board of secondary education orissa', 'bseb patna', 'board of secondary education(bse) orissa', 'maticulation', 'j & k bord', 'msbshse,pune', 'bihar secondary education board,patna', 'hse,board', 'karnataka board of secondary education', 'tamilnadu state board', 'stjoseph of cluny matrhrsecschool,neyveli,cuddalore district', 'karnataka secondary eduction', 'board of high school and intermediate education uttarpradesh', 'andhra pradesh board ssc', 'upbhsie', 'state borad hp', 'little jacky matric higher secondary school', 'board of  secondary education', 'ghseb', 'kolhapur', 'biharboard', 'certificate of middle years program of ib', 'secondary education board of rajasthan', 'icse board , new delhi', 'sss pune', 'maharashtra nasik board', 'ua', 'ssc-andhra pradesh', 'sslc board', 'uttaranchal shiksha avam pariksha parishad', 'bsepatna', 'himachal pradesh board', 'rajasthan board ajmer', 'state board of secondary education, ap', 'jharkhand secondary education board', 'haryana board of school education', 'gsheb', 'bright way college, (up board)', 'u p', 'secondary school cerfificate', 'up bord', 'karnataka state education examination board', 'himachal pradesh board of school education', 'jharkhand academic council', 'board of secondary school education', 'bsemp', 'karnataka education board']\n",
      "---------------------------------\n",
      "12board_choice =  ['cbse', 'amravati divisional board', 'state board', 'all india board', '0', 'chse', 'state board of technical education harayana', 'u p board', 'rajasthan board of secondary education', 'up board', 'council for indian school certificate examination', 'kea', 'board of intermediate education,hyderabad', 'wbchse', 'hisher seconadry examination(state board)', 'board fo intermediate education, ap', 'up', 'karnataka state', 'intermediate board', 'directorate of technical education,banglore', 'board of intermediate education', 'hsc', 'icse', 'board of intermediate', 'gsheb', 'uttar pradesh board', 'rbse', 'pre-university board', 'maharashtra board', 'isc', 'tn state board', 'puc', 'baord of intermediate education', 'karnataka pre university board', 'bieap', 'state', 'maharashtra state board', 'intermediate', 'p u board, karnataka', 'hbse', 'board of intermediate ap', 'andhra board', 'pu', 'uttar pradesh', 'pre university board of karnataka', 'ssc', 'madhya pradesh open school', 'nagpur divisional board', 'bihar board', 'jkbose', 'matriculation', 'pu board', 'ipe', 'higher secondary state certificate', 'jaswant modern school', 'mp board', 'up bourd', 'department of technical education', 'j&k state board of school education', 'kerala state board', 'ap board', 'rajasthan board', 'msbte', 'pre university board, karnataka', 'bseb', 'upboard', 'wbbhse', 'state board - west bengal council of higher secondary education : wbchse', 'department of pre-university education', 'pu board ,karnataka', 'cgbse', 'uttarakhand board', 'sbtet', 'hse', 'sri kannika parameswari highier secondary school, udumalpet', 'maharashtra satate board', 'kerala state hse board', 'pu board karnataka', 'board of intermediate education, andhra pradesh', 'karnataka pre-university board', 'state board (jac, ranchi)', 'karnataka state board', 'dav public school', 'uo board', 'karnataka board', 'west bengal council of higher secondary education', 'puboard', 'central board of secondary education', 'bie', 'up baord', 'pseb', 'board of higher secondary examination, kerala', 'sbte, jharkhand', 'department of technical education, bangalore', 'west bengal state council of technical education', 'madhya pradesh board', 'board of secondary school of education', 'board of intmediate education ap', 'bteup', 'pub', 'diploma in computers', 'stateboard', 'board of secondary education, rajasthan', 'pre university board', 'cbsc', 'jaycee matriculation school', 'mp', 'uttrakhand board', 'nagpur', 'certificate for higher secondary education (chse)orissa', 'karnataka pu board', 's j polytechnic', 'bseb, patna', 'mpbse', 'ks rangasamy institute of technology', 'bihar intermediate education council', 'tamilnadu stateboard', 'board of intermediate education,andhra pradesh', 'diploma(msbte)', 'tamilnadu higher secondary education board', 'board of intermidiate', 'department of pre-university education(government of karnataka)', 'karnataka board secondary education', 'secondary board of rajasthan', 'intermediate board examination', 'govt of karnataka department of pre-university education', 'intermedite', 'up(allahabad)', 'chse,orissa', 'mpc', 'rbse (state board)', 'hsc maharashtra board', 'bte up', 'state syllabus', 'up board,allahabad', 'scte vt orissa', 'apbie', 'intermideate', 'up board , allahabad', 'board of technical education', 'state board - tamilnadu', 'aurangabad board', 'jharkhand academic council', 'sri chaitanya junior kalasala', 'state  board of intermediate education, andhra pradesh', 'maharashtra state board for hsc', 'pune board', 'uttaranchal state board', 'uttranchal board', 'ap intermediate board', 'srv girls higher sec school,rasipuram', 'nagpur board', 'dte', 'aissce', 'ibe', 'diploma ( maharashtra state board of technical education)', 'west bengal board of higher secondary education', 'hbsc', 'state bord', 'gseb', 'biec, patna', 'diploma in engg (e &tc) tilak maharashtra vidayapeeth', 'psbte', 'central board of secondary education, new delhi', 'pre university', 'nashik board', 'board of intermediate education,ap', 'karnataka state pre- university board', 'state board ', 'board of intermediate education,andra pradesh', 'jstb,jharkhand', 'jharkhand acedemic council', 'board of school education harayana', 'department of pre university education', 'intermediate board of education,andhra pradesh', 'nios', 'karnataka pre-university', 'tamil nadu polytechnic', 'intermediate board of education', 'andhra pradesh board of secondary education', 'department of pre-university education, bangalore', 'jharkhand acamedic council (ranchi)', 'board of intermediate education, ap', 'jawahar higher secondary school', 'scte and vt ,orissa', 'karnataka secondary education board', 'mp board bhopal', 'isc board', 'biec', 'intermediate board of andhra pardesh', 'science college', 'dav public school,hehal', 'board of technicaleducation ,delhi', 'maharashtra board, pune', 'board of intermediate education:ap,hyderabad', 'aligarh muslim university', 'latur board', 'chse,odisha', 'gujarat board', 'bciec,patna', 'biec,patna', 'staae board', 'up board allahabad', 'cbse board', 'maharashtra state(latur board)', 'karnataka pre unversity board', 'andhra pradesh state board', 'maharashtra', 'punjab state board of technical education & industrial training, chandigarh', 'bihar school examination board patna', 'ap board for intermediate education', 'scte&vt', 'board of intermediate,ap', 'punjab state board of technical education & industrial training', 'andhra pradesh', 'pre-university', 'bice', 'board of higher secondary orissa', 'biec patna', 'electonincs and communication(dote)', 'j & k board', 'msbshse,pune', 'intermediate council patna', 'scte & vt (diploma)', 'karnataka secondary education', 'karnataka board of university', 'chse, odisha', 'tamilnadu state board', 'karnataka pu', 'intermediate state board', 'stjoseph of cluny matrhrsecschool,neyveli,cuddalore district', 'wbscte', 'board of high school and intermediate education uttarpradesh', 'andhpradesh board of intermediate education', 'msbte (diploma in computer technology)', 'upbhsie', 'apbsc', 'sda matric higher secondary school', 'stateboard/tamil nadu', 'board of intermidiate education,ap', 'ghseb', 'kolhapur', 'international baccalaureate (ib) diploma', 'state board of technical eduction panchkula', 'board of intermediate(bie)', 'state board of technical education and training', 'secnior secondary education board of rajasthan', 'karnataka sslc', 'isc board , new delhi', 'hsc pune', 'gshseb', 'maharashtra nasik board', 'ua', 'karnatak pu board', 'state broad', 'dote (diploma - computer engg)', 'pue', 'uttaranchal shiksha avam pariksha parishad', 'biec-patna', 'himachal pradesh board', 'apsb', 'rajasthan board ajmer', 'technical board, punchkula', ' board of intermediate', 'mbose', 'bright way college, (up board)', 'sjrcw', 'u p', 'mpboard', 'up bord', 'intermidiate', 'dept of pre-university education', 'himachal pradesh board of school education', 'dpue', 'board of intermeadiate education', 'bsemp', 'karnataka education board']\n",
      "---------------------------------\n",
      "degree_choice =  ['B.Tech/B.E.', 'M.Tech./M.E.', 'MCA', 'M.Sc. (Tech.)']\n",
      "---------------------------------\n",
      "specialization_choice =  ['instrumentation and control engineering', 'computer science & engineering', 'electronics & telecommunications', 'biotechnology', 'mechanical engineering', 'information technology', 'electronics and communication engineering', 'computer engineering', 'computer application', 'computer science and technology', 'electrical engineering', 'automobile/automotive engineering', 'electronics and electrical engineering', 'information science engineering', 'chemical engineering', 'instrumentation engineering', 'electronics & instrumentation eng', 'ceramic engineering', 'metallurgical engineering', 'aeronautical engineering', 'electronics engineering', 'electronics and instrumentation engineering', 'applied electronics and instrumentation', 'civil engineering', 'computer and communication engineering', 'industrial & production engineering', 'computer networking', 'other', 'electronics and computer engineering', 'control and instrumentation engineering', 'mechanical & production engineering', 'mechanical and automation', 'industrial & management engineering', 'biomedical engineering', 'electrical and power engineering', 'telecommunication engineering', 'industrial engineering', 'mechatronics', 'embedded systems technology', 'electronics', 'information & communication technology', 'information science']\n",
      "---------------------------------\n",
      "collegestate_choice =  ['Delhi', 'Uttar Pradesh', 'Maharashtra', 'Tamil Nadu', 'Punjab', 'West Bengal', 'Telangana', 'Andhra Pradesh', 'Haryana', 'Karnataka', 'Orissa', 'Chhattisgarh', 'Rajasthan', 'Madhya Pradesh', 'Uttarakhand', 'Gujarat', 'Jharkhand', 'Himachal Pradesh', 'Bihar', 'Union Territory', 'Jammu and Kashmir', 'Kerala', 'Assam', 'Sikkim', 'Meghalaya', 'Goa']\n",
      "---------------------------------\n",
      "collegetier_choice =  [1, 2]\n",
      "---------------------------------\n",
      "collegecitytier_choice =  [1, 0]\n",
      "---------------------------------\n"
     ]
    }
   ],
   "source": [
    "# print unique values in each column in categorical columns\n",
    "for col in categorical_columns:\n",
    "    print(f'{col.lower()}_choice = ', df[col].unique().tolist())\n",
    "    print('---------------------------------')"
   ]
  },
  {
   "cell_type": "code",
   "execution_count": 386,
   "metadata": {},
   "outputs": [
    {
     "name": "stdout",
     "output_type": "stream",
     "text": [
      "<class 'pandas.core.frame.DataFrame'>\n",
      "Int64Index: 2998 entries, 604399 to 993701\n",
      "Data columns (total 15 columns):\n",
      " #   Column           Non-Null Count  Dtype  \n",
      "---  ------           --------------  -----  \n",
      " 0   Gender           2998 non-null   object \n",
      " 1   10board          2998 non-null   object \n",
      " 2   12board          2998 non-null   object \n",
      " 3   Degree           2998 non-null   object \n",
      " 4   Specialization   2998 non-null   object \n",
      " 5   CollegeState     2998 non-null   object \n",
      " 6   CollegeTier      2998 non-null   int64  \n",
      " 7   CollegeCityTier  2998 non-null   int64  \n",
      " 8   10percentage     2998 non-null   float64\n",
      " 9   12percentage     2998 non-null   float64\n",
      " 10  collegeGPA       2998 non-null   float64\n",
      " 11  English          2998 non-null   int64  \n",
      " 12  Logical          2998 non-null   int64  \n",
      " 13  Quant            2998 non-null   int64  \n",
      " 14  Age              2998 non-null   int64  \n",
      "dtypes: float64(3), int64(6), object(6)\n",
      "memory usage: 374.8+ KB\n"
     ]
    }
   ],
   "source": [
    "X.info()"
   ]
  },
  {
   "cell_type": "code",
   "execution_count": 394,
   "metadata": {},
   "outputs": [
    {
     "data": {
      "text/plain": [
       "218230.78"
      ]
     },
     "execution_count": 394,
     "metadata": {},
     "output_type": "execute_result"
    }
   ],
   "source": [
    "data ={'10board': {0: 'andhra pradesh state board'},\n",
    " '10percentage': {0: '90'},\n",
    " '12board': {0: ' board of intermediate'},\n",
    " '12percentage': {0: '58'},\n",
    " 'Age': {0: '19'},\n",
    " 'CollegeCityTier': {0: '1'},\n",
    " 'CollegeState': {0: 'Punjab'},\n",
    " 'CollegeTier': {0: '1'},\n",
    " 'Degree': {0: 'B.Tech/B.E.'},\n",
    " 'English': {0: '66'},\n",
    " 'Gender': {0: 'f'},\n",
    " 'Logical': {0: '66'},\n",
    " 'Quant': {0: '66'},\n",
    " 'Specialization': {0: 'electronics and communication engineering'},\n",
    " 'collegeGPA': {0: '67'}}\n",
    "udf = pd.DataFrame(data)\n",
    "udf\n",
    "np.expm1(model.predict(udf)[0])"
   ]
  },
  {
   "cell_type": "code",
   "execution_count": null,
   "metadata": {},
   "outputs": [],
   "source": []
  }
 ],
 "metadata": {
  "kernelspec": {
   "display_name": "base",
   "language": "python",
   "name": "python3"
  },
  "language_info": {
   "codemirror_mode": {
    "name": "ipython",
    "version": 3
   },
   "file_extension": ".py",
   "mimetype": "text/x-python",
   "name": "python",
   "nbconvert_exporter": "python",
   "pygments_lexer": "ipython3",
   "version": "3.10.11"
  },
  "orig_nbformat": 4
 },
 "nbformat": 4,
 "nbformat_minor": 2
}
